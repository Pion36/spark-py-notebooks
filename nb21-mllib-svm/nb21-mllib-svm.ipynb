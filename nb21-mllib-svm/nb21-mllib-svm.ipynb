{
 "cells": [
  {
   "cell_type": "markdown",
   "metadata": {},
   "source": [
    "# MLlib(SVM)でクラス分類"
   ]
  },
  {
   "cell_type": "code",
   "execution_count": 35,
   "metadata": {
    "collapsed": true
   },
   "outputs": [],
   "source": [
    "#SVM sample code .  if you know more info , please see url.\n",
    "#http://qiita.com/kenmatsu4/items/00ad151e857d546a97c3"
   ]
  },
  {
   "cell_type": "code",
   "execution_count": 36,
   "metadata": {
    "collapsed": false
   },
   "outputs": [],
   "source": [
    "%matplotlib inline\n",
    "import matplotlib.pyplot as plt\n",
    "import numpy as np\n",
    "import pandas as pd\n",
    "from sklearn import datasets\n",
    "plt.style.use('ggplot')\n",
    "\n",
    "# http://scikit-learn.org/stable/auto_examples/datasets/plot_iris_dataset.html\n",
    "iris = datasets.load_iris()\n"
   ]
  },
  {
   "cell_type": "markdown",
   "metadata": {},
   "source": [
    "## scikit-learnのirisデータを取得。"
   ]
  },
  {
   "cell_type": "code",
   "execution_count": 32,
   "metadata": {
    "collapsed": false
   },
   "outputs": [],
   "source": [
    "# ------- Create Color Map ------- #\n",
    "xmin = 4.0\n",
    "xmax = 8.5\n",
    "ymin = 0\n",
    "ymax = 8\n",
    "n = 100\n",
    "xx = np.linspace(xmin, xmax, n)\n",
    "yy = np.linspace(ymin, ymax, n)\n",
    "X, Y = np.meshgrid(xx, yy)\n",
    "\n",
    "# 2015.9.15 追加：predictの分散処理化\n",
    "f_XY = np.column_stack([X.flatten(), Y.flatten()])\n",
    "sc_XY = sc.parallelize(f_XY)\n",
    "res = sc_XY.map(lambda data: model.predict(data))  # 学習したデータから、各点がどちらに分類されるか予測実行\n",
    "Z = np.array(res.collect()).reshape(X.shape)\n"
   ]
  },
  {
   "cell_type": "code",
   "execution_count": 33,
   "metadata": {
    "collapsed": false
   },
   "outputs": [
    {
     "data": {
      "text/plain": [
       "<matplotlib.collections.PolyCollection at 0x1114bcd90>"
      ]
     },
     "execution_count": 33,
     "metadata": {},
     "output_type": "execute_result"
    },
    {
     "data": {
      "image/png": "[encoded data removed]",
      "text/plain": [
       "<matplotlib.figure.Figure at 0x111970b90>"
      ]
     },
     "metadata": {},
     "output_type": "display_data"
    }
   ],
   "source": [
    "from pyspark.mllib.classification import SVMWithSGD\n",
    "from pyspark.mllib.regression import LabeledPoint\n",
    "\n",
    "# SVMは2値分類なので、2種類に絞る\n",
    "idx = np.r_[ np.where(iris.target == 1)[0],  np.where(iris.target == 2)[0]]\n",
    "\n",
    "# Sparkが読み取れるようにデータを変換\n",
    "dat = np.column_stack([iris.target[idx]-1, iris.data[idx,0],iris.data[idx,2]])\n",
    "data = sc.parallelize(dat)\n",
    "def parsePoint(vec):\n",
    "    return LabeledPoint(vec[0], vec[1:])\n",
    "parsedData = data.map(parsePoint)\n",
    "\n",
    "# SVMで学習実行\n",
    "model = SVMWithSGD.train(parsedData, iterations=5000)\n",
    "\n",
    "# ------- Predict Data ------- #\n",
    "# 2015.9.15 追加：predictの分散処理化\n",
    "f_XY = np.column_stack([X.flatten(), Y.flatten()])\n",
    "sc_XY = sc.parallelize(f_XY)\n",
    "res = sc_XY.map(lambda data: model.predict(data))  # 学習したデータから、各点がどちらに分類されるか予測実行\n",
    "Z = np.array(res.collect()).reshape(X.shape)\n",
    "\n",
    "# 2015.9.15 削除\n",
    "#Z = np.zeros_like(X)\n",
    "#for i in range(n):\n",
    "#    for j in range(n):\n",
    "#        Z[i,j] = model.predict([xx[j],yy[i]])\n",
    "\n",
    "\n",
    "# ---------- Draw Graph ---------- # \n",
    "plt.figure(figsize=(9,7))\n",
    "xmin = 4.0\n",
    "xmax = 8.5\n",
    "ymin = 2\n",
    "ymax = 8\n",
    "plt.xlim(xmin, xmax)\n",
    "plt.ylim(ymin, ymax)\n",
    "\n",
    "# 点をプロット\n",
    "for i, color in enumerate('rb'):\n",
    "    idx = np.where(iris.target == i+1)[0]\n",
    "    plt.scatter(iris.data[idx,0],iris.data[idx,2], c=color, s=30, alpha=.7, zorder=100)\n",
    "\n",
    "# 塗りつぶし描画\n",
    "plt.pcolor(X, Y, Z, alpha=0.3)"
   ]
  },
  {
   "cell_type": "code",
   "execution_count": null,
   "metadata": {
    "collapsed": true
   },
   "outputs": [],
   "source": []
  }
 ],
 "metadata": {
  "kernelspec": {
   "display_name": "Python 2",
   "language": "python",
   "name": "python2"
  },
  "language_info": {
   "codemirror_mode": {
    "name": "ipython",
    "version": 2
   },
   "file_extension": ".py",
   "mimetype": "text/x-python",
   "name": "python",
   "nbconvert_exporter": "python",
   "pygments_lexer": "ipython2",
   "version": "2.7.12"
  }
 },
 "nbformat": 4,
 "nbformat_minor": 2
}
